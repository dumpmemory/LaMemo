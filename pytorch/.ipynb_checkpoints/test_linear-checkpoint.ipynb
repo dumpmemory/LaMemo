{
 "cells": [
  {
   "cell_type": "code",
   "execution_count": 5,
   "metadata": {},
   "outputs": [],
   "source": [
    "import torch\n",
    "\n",
    "fast_weight = []\n",
    "grad_fast_weight = []\n",
    "\n",
    "class AutogradLinearAttn(torch.autograd.Function):\n",
    "    @staticmethod\n",
    "    def forward(ctx, k, v, q, layer_id):\n",
    "        # key, query: (B, dim)\n",
    "        # value: (B, v_dim)\n",
    "        # layer id: layer_id\n",
    "        global fast_weight\n",
    "        # fast_weight is a global variable. This is needed as we can not have\n",
    "        # extra, non-gradient parameter in the backward pass.\n",
    "        ctx.save_for_backward(k, v, q)\n",
    "        ctx.layer_id = layer_id\n",
    "\n",
    "        weight_update = torch.bmm(v.unsqueeze(2), k.unsqueeze(1))\n",
    "        fast_weight[layer_id] += weight_update\n",
    "        output = torch.bmm(fast_weight[layer_id], q.unsqueeze(2)).squeeze(2)\n",
    "\n",
    "        return output\n",
    "\n",
    "    @staticmethod\n",
    "    def backward(ctx, grad_out):\n",
    "        global fast_weight, grad_fast_weight\n",
    "        k, v, q = ctx.saved_tensors\n",
    "        layer_id = ctx.layer_id\n",
    "\n",
    "        # compute grad_q\n",
    "        grad_q = torch.bmm(grad_out.unsqueeze(1), fast_weight[layer_id]).squeeze()\n",
    "\n",
    "        # revert update fast weight\n",
    "        fast_weight[layer_id] -= torch.bmm(v.unsqueeze(2), k.unsqueeze(1))\n",
    "\n",
    "        # update grad_W\n",
    "        grad_fast_weight[layer_id] += torch.bmm(grad_out.unsqueeze(2), q.unsqueeze(1))\n",
    "\n",
    "        # compute grad_k and grad_v\n",
    "        #print(v.dtype)\n",
    "        #print(grad_fast_weight[layer_id].dtype)\n",
    "        grad_k = torch.bmm(v.unsqueeze(1), grad_fast_weight[layer_id]).squeeze(1)\n",
    "        grad_v = torch.bmm(grad_fast_weight[layer_id], k.unsqueeze(2)).squeeze(2)\n",
    "\n",
    "        return grad_k, grad_v, grad_q, None"
   ]
  },
  {
   "cell_type": "code",
   "execution_count": 6,
   "metadata": {},
   "outputs": [
    {
     "name": "stdout",
     "output_type": "stream",
     "text": [
      "torch.Size([3, 5]) torch.Size([3, 2, 5])\n",
      "torch.Size([3, 5]) torch.Size([3, 2, 5])\n",
      "torch.Size([3, 5]) torch.Size([3, 2, 5])\n",
      "torch.Size([3, 5]) torch.Size([3, 2, 5])\n",
      "torch.Size([3, 5]) torch.Size([3, 2, 5])\n",
      "torch.Size([3, 5]) torch.Size([3, 2, 5])\n",
      "torch.Size([3, 5]) torch.Size([3, 2, 5])\n",
      "torch.Size([3, 5]) torch.Size([3, 2, 5])\n",
      "torch.Size([3, 5]) torch.Size([3, 2, 5])\n",
      "torch.Size([3, 5]) torch.Size([3, 2, 5])\n"
     ]
    }
   ],
   "source": [
    "bsz = 3\n",
    "dim = 5\n",
    "v_dim = 2\n",
    "steps = 10\n",
    "\n",
    "dtype = torch.double\n",
    "\n",
    "fast_weight = [0.0]\n",
    "grad_fast_weight = [0.0]\n",
    "\n",
    "k = torch.randn(steps, bsz, dim, requires_grad=True, dtype=dtype)\n",
    "v = torch.randn(steps, bsz, v_dim, requires_grad=True, dtype=dtype)\n",
    "q = torch.rand([steps, bsz, dim], requires_grad=True, dtype=dtype)\n",
    "\n",
    "func = AutogradLinearAttn.apply\n",
    "\n",
    "output = torch.zeros(bsz, v_dim, dtype=dtype)\n",
    "\n",
    "for i in range(steps):\n",
    "    output += func(k[i], v[i], q[i], 0)\n",
    "\n",
    "loss = output.sum()\n",
    "loss.backward()\n",
    "    \n"
   ]
  },
  {
   "cell_type": "code",
   "execution_count": null,
   "metadata": {},
   "outputs": [],
   "source": []
  }
 ],
 "metadata": {
  "kernelspec": {
   "display_name": "Python 3",
   "language": "python",
   "name": "python3"
  },
  "language_info": {
   "codemirror_mode": {
    "name": "ipython",
    "version": 3
   },
   "file_extension": ".py",
   "mimetype": "text/x-python",
   "name": "python",
   "nbconvert_exporter": "python",
   "pygments_lexer": "ipython3",
   "version": "3.7.3"
  }
 },
 "nbformat": 4,
 "nbformat_minor": 2
}
